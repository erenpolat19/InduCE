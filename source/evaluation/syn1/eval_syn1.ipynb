{
 "cells": [
  {
   "cell_type": "code",
   "execution_count": 36,
   "metadata": {},
   "outputs": [],
   "source": [
    "import sys\n",
    "sys.path.append('../../src/')\n",
    "import torch\n",
    "import pandas as pd\n",
    "import numpy as np\n",
    "import pickle\n",
    "import argparse\n",
    "import networkx as nx\n",
    "from torch_geometric.utils import dense_to_sparse, degree\n",
    "import matplotlib.pyplot as plt\n",
    "from utils.classificationnet import GCNSynthetic\n",
    "from utils.utils import normalize_adj, get_neighbourhood"
   ]
  },
  {
   "cell_type": "code",
   "execution_count": 37,
   "metadata": {},
   "outputs": [],
   "source": [
    "import warnings\n",
    "warnings.filterwarnings(\"ignore\")"
   ]
  },
  {
   "cell_type": "code",
   "execution_count": 38,
   "metadata": {},
   "outputs": [],
   "source": [
    "torch.set_printoptions(precision=8)\n",
    "header = [\"node_idx\", \"new_idx\", \"cf_adj\", \"sub_adj\", \"cf\", \"num_nodes\", \"node_dict\", \"y_pred\", \"y_pred_cf\",\n",
    "            \"label\",  \"loss_total\", \"loss_pred\", \"loss_graph_dist\",\"found\"]"
   ]
  },
  {
   "cell_type": "code",
   "execution_count": 39,
   "metadata": {},
   "outputs": [
    {
     "name": "stdout",
     "output_type": "stream",
     "text": [
      "train set y_true counts: (array([0, 1, 2, 3]), array([238, 131, 128,  63]))\n",
      "train set y_pred_orig counts: (array([0, 1, 2, 3]), array([238, 136, 114,  72]))\n",
      "test set y_true counts: (array([0, 1, 2, 3]), array([62, 29, 32, 17]))\n",
      "test set y_pred_orig counts: (array([0, 1, 2, 3]), array([62, 30, 30, 18]))\n",
      "Whole graph counts: (array([0, 1, 2, 3]), array([300, 160, 160,  80]))\n"
     ]
    }
   ],
   "source": [
    "# For original model\n",
    "dataset = \"syn1\"\n",
    "hidden = 20\n",
    "seed = 37\n",
    "dropout = 0.0\n",
    "\n",
    "# Load original dataset and model\n",
    "\n",
    "with open(\"../../data/gnn_explainer/{}.pickle\".format(dataset), \"rb\") as f:\n",
    "\tdata = pickle.load(f)\n",
    "\n",
    "adj = torch.Tensor(data[\"adj\"]).squeeze()       # Does not include self loops\n",
    "features = torch.Tensor(data[\"feat\"]).squeeze()\n",
    "labels = torch.tensor(data[\"labels\"]).squeeze()\n",
    "idx_train = torch.tensor(data[\"train_idx\"])\n",
    "idx_test = torch.tensor(data[\"test_idx\"])\n",
    "edge_index = dense_to_sparse(adj)\n",
    "\n",
    "norm_adj = normalize_adj(adj)\n",
    "\n",
    "model = GCNSynthetic(nfeat=features.shape[1], nhid=hidden, nout=hidden,\n",
    "                     nclass=len(labels.unique()), dropout=dropout)\n",
    "model.load_state_dict(torch.load(\"../../models/gcn_3layer_{}.pt\".format(dataset)))\n",
    "model.eval()\n",
    "output = model(features, norm_adj)\n",
    "y_pred_orig = torch.argmax(output, dim=1)\n",
    "print(\"train set y_true counts: {}\".format(np.unique(labels[idx_train].numpy(), return_counts=True)))\n",
    "print(\"train set y_pred_orig counts: {}\".format(np.unique(y_pred_orig[idx_train].numpy(), return_counts=True)))\n",
    "#print(\"Whole graph counts: {}\".format(np.unique(labels.numpy(), return_counts=True)))\n",
    "print(\"test set y_true counts: {}\".format(np.unique(labels[idx_test].numpy(), return_counts=True)))\n",
    "print(\"test set y_pred_orig counts: {}\".format(np.unique(y_pred_orig[idx_test].numpy(), return_counts=True)))\n",
    "print(\"Whole graph counts: {}\".format(np.unique(labels.numpy(), return_counts=True)))"
   ]
  },
  {
   "cell_type": "markdown",
   "metadata": {},
   "source": [
    "### LOADING RESULTS TO DATAFRAME"
   ]
  },
  {
   "cell_type": "markdown",
   "metadata": {},
   "source": [
    "save_prefix list:\n",
    "1. inductive_non0_correct_only\n",
    "2. inductive_non0_correct_del_only\n",
    "3. inductive_non0_correct_adaptive\n",
    "4. ablation_feats\n",
    "5. ablation_feats_degree\n",
    "6. ablation_feats_entropy\n",
    "7. ablation_feats_onehot\n",
    "8. ablation_feats_deg_entropy\n",
    "9. ablation_feats_deg_onehot\n",
    "10. ablation_feats_entropy_onehot"
   ]
  },
  {
   "cell_type": "code",
   "execution_count": 40,
   "metadata": {},
   "outputs": [],
   "source": [
    "save_prefix = \"ablation_feats_degree\" #'inductive_non0_correct_only'"
   ]
  },
  {
   "cell_type": "code",
   "execution_count": 41,
   "metadata": {},
   "outputs": [],
   "source": [
    "train=False #keep true if training and then testing, else keep False when directly testing using saved models"
   ]
  },
  {
   "cell_type": "code",
   "execution_count": 42,
   "metadata": {},
   "outputs": [],
   "source": [
    "if(train):\n",
    "    with open(\"../../results/{}/{}_train_checkpoint_{}.pkl\".format(dataset, dataset, save_prefix), \"rb\") as ftrain:\n",
    "        cf_examples_train = pickle.load(ftrain)\n",
    "    ftrain.close()\n",
    "\n",
    "# # Load cf examples for test set\n",
    "with open(\"../../results/{}/{}_test_{}.pkl\".format(dataset, dataset, save_prefix), \"rb\") as ftest:\n",
    "    cf_examples_test = pickle.load(ftest)\n",
    "ftest.close()"
   ]
  },
  {
   "cell_type": "code",
   "execution_count": 43,
   "metadata": {},
   "outputs": [],
   "source": [
    "if(train):\n",
    "    df_train = pd.DataFrame(columns=header)\n",
    "    df_train_not_found = pd.DataFrame(columns=header)\n",
    "    for key in cf_examples_train.keys():\n",
    "        val={}\n",
    "        i=0\n",
    "        for head in header:\n",
    "            if(head == \"node_idx\"):\n",
    "                val[head] = key\n",
    "            else:\n",
    "                if(torch.is_tensor(cf_examples_train[key][i])):\n",
    "                    val[head] = cf_examples_train[key][i].detach().cpu().numpy()\n",
    "                else:\n",
    "                    val[head] = cf_examples_train[key][i]\n",
    "                i+=1\n",
    "        if(val['found'] == 'not found'):\n",
    "            df_train_not_found = df_train_not_found.append(val, ignore_index=True)\n",
    "        else:\n",
    "            df_train = df_train.append(val, ignore_index=True)\n",
    "\n",
    "    print(len(df_train), len(df_train_not_found))"
   ]
  },
  {
   "cell_type": "code",
   "execution_count": 44,
   "metadata": {},
   "outputs": [
    {
     "data": {
      "text/plain": [
       "(69, 7)"
      ]
     },
     "execution_count": 44,
     "metadata": {},
     "output_type": "execute_result"
    }
   ],
   "source": [
    "df_test = pd.DataFrame(columns=header)\n",
    "df_test_not_found = pd.DataFrame(columns=header)\n",
    "for key in cf_examples_test.keys():\n",
    "    val={}\n",
    "    i=0\n",
    "    for head in header:\n",
    "        if(head == \"node_idx\"):\n",
    "            val[head] = key\n",
    "        else:\n",
    "            if(torch.is_tensor(cf_examples_test[key][i])):\n",
    "                val[head] = cf_examples_test[key][i].detach().cpu().numpy()\n",
    "            else:\n",
    "                val[head] = cf_examples_test[key][i]\n",
    "            i+=1\n",
    "    if(val['found'] == 'not found'):\n",
    "        df_test_not_found = df_test_not_found.append(val, ignore_index=True)\n",
    "    else:\n",
    "        df_test = df_test.append(val, ignore_index=True)\n",
    "\n",
    "len(df_test), len(df_test_not_found)"
   ]
  },
  {
   "cell_type": "markdown",
   "metadata": {},
   "source": [
    "#### QUANTITATIVE ANALYSIS"
   ]
  },
  {
   "cell_type": "code",
   "execution_count": 45,
   "metadata": {},
   "outputs": [
    {
     "name": "stdout",
     "output_type": "stream",
     "text": [
      "Num cf examples found during test: 69/76\n",
      "Average graph distance test: 4.028985507246377\n"
     ]
    }
   ],
   "source": [
    "if(train):\n",
    "    print(\"Num cf examples found during train: {}/{}\".format(len(df_train), len(df_train)+len(df_train_not_found)))\n",
    "print(\"Num cf examples found during test: {}/{}\".format(len(df_test), len(df_test)+len(df_test_not_found)))\n",
    "if(train):\n",
    "    print(\"Average graph distance train: {}\".format(np.mean(df_train[\"loss_graph_dist\"])))\n",
    "print(\"Average graph distance test: {}\".format(np.mean(df_test[\"loss_graph_dist\"])))"
   ]
  },
  {
   "cell_type": "markdown",
   "metadata": {},
   "source": [
    "#### AVG EXPLANATION SIZE"
   ]
  },
  {
   "cell_type": "code",
   "execution_count": 46,
   "metadata": {},
   "outputs": [],
   "source": [
    "if(train):\n",
    "  avg_cf_len = 0\n",
    "  cf_size_list_train = []\n",
    "  cf_size_dict_train = {}\n",
    "  for i in range(len(df_train)) :\n",
    "    cf_len = len(df_train.loc[i, \"cf\"])\n",
    "    avg_cf_len += cf_len\n",
    "    cf_size_list_train.append(cf_len)\n",
    "    label = df_train.loc[i, \"label\"].item()\n",
    "    if(label not in cf_size_dict_train.keys()):\n",
    "      cf_size_dict_train[label] = [cf_len]\n",
    "    else:\n",
    "      cf_size_dict_train[label].append(cf_len)\n",
    "\n",
    "  print(\"Average counterfactual length train: \", np.mean(cf_size_list_train), avg_cf_len/len(df_train))\n",
    "  print(\"Std Dev counterfactual length train: \", np.std(cf_size_list_train))"
   ]
  },
  {
   "cell_type": "code",
   "execution_count": 47,
   "metadata": {},
   "outputs": [],
   "source": [
    "if(train):\n",
    "    for key in cf_size_dict_train.keys():\n",
    "        print(\"Label: {}, Avg CF Size: {:.2f} +- {:.2f}\".format(key, np.mean(cf_size_dict_train[key]), np.std(cf_size_dict_train[key])))"
   ]
  },
  {
   "cell_type": "code",
   "execution_count": 48,
   "metadata": {},
   "outputs": [
    {
     "name": "stdout",
     "output_type": "stream",
     "text": [
      "Average counterfactual length test:  4.028985507246377 4.028985507246377\n",
      "Std Dev counterfactual length test:  4.276565784929941\n"
     ]
    }
   ],
   "source": [
    "avg_cf_len = 0\n",
    "cf_size_list_test = []\n",
    "cf_size_dict_test = {}\n",
    "for i in range(len(df_test)) :\n",
    "  cf_len = len(df_test.loc[i, \"cf\"])\n",
    "  avg_cf_len += cf_len\n",
    "  cf_size_list_test.append(cf_len)\n",
    "  label = df_test.loc[i, \"label\"].item()\n",
    "  if(label not in cf_size_dict_test.keys()):\n",
    "    cf_size_dict_test[label] = [cf_len]\n",
    "  else:\n",
    "    cf_size_dict_test[label].append(cf_len)\n",
    "\n",
    "\n",
    "print(\"Average counterfactual length test: \", np.mean(cf_size_list_test), avg_cf_len/len(df_test))\n",
    "print(\"Std Dev counterfactual length test: \", np.std(cf_size_list_test))"
   ]
  },
  {
   "cell_type": "code",
   "execution_count": 49,
   "metadata": {},
   "outputs": [
    {
     "name": "stdout",
     "output_type": "stream",
     "text": [
      "Label: 2, Avg CF Size: 1.17 +- 0.45\n",
      "Label: 1, Avg CF Size: 9.65 +- 2.61\n",
      "Label: 3, Avg CF Size: 1.31 +- 0.68\n"
     ]
    }
   ],
   "source": [
    "for key in cf_size_dict_test.keys():\n",
    "    print(\"Label: {}, Avg CF Size: {:.2f} +- {:.2f}\".format(key, np.mean(cf_size_dict_test[key]), np.std(cf_size_dict_test[key])))"
   ]
  },
  {
   "cell_type": "markdown",
   "metadata": {},
   "source": [
    "#### FIDELITY"
   ]
  },
  {
   "cell_type": "markdown",
   "metadata": {},
   "source": [
    "AVERAGE FIDELITY"
   ]
  },
  {
   "cell_type": "code",
   "execution_count": 50,
   "metadata": {},
   "outputs": [
    {
     "name": "stdout",
     "output_type": "stream",
     "text": [
      "Avg fidelity test: 0.092\n"
     ]
    }
   ],
   "source": [
    "if(train):\n",
    "    print(\"Avg fidelity train: {:.3f}\".format(1 - len(df_train) / (len(df_train)+len(df_train_not_found))))\n",
    "print(\"Avg fidelity test: {:.3f}\".format(1 - len(df_test) / (len(df_test)+len(df_test_not_found))))"
   ]
  },
  {
   "cell_type": "markdown",
   "metadata": {},
   "source": [
    "LABEL-WISE FIDELITY"
   ]
  },
  {
   "cell_type": "code",
   "execution_count": 51,
   "metadata": {},
   "outputs": [],
   "source": [
    "if(train):\n",
    "    label_found_train = [len(df_train[df_train['label'] == 0]),len(df_train[df_train['label'] == 1]),\n",
    "    len(df_train[df_train['label'] == 2]), len(df_train[df_train['label'] == 3])] \n",
    "    print(label_found_train)\n",
    "    label_not_found_train = [len(df_train_not_found[df_train_not_found['label'] == 0]),\n",
    "    len(df_train_not_found[df_train_not_found['label'] == 1]),\n",
    "    len(df_train_not_found[df_train_not_found['label'] == 2]),\n",
    "    len(df_train_not_found[df_train_not_found['label'] == 3])]\n",
    "    print(label_not_found_train)\n",
    "    for i in range(len(label_found_train)):\n",
    "        if(label_found_train[i]+label_not_found_train[i] == 0):\n",
    "            continue\n",
    "        fidelity = 1 - (label_found_train[i]/(label_found_train[i]+label_not_found_train[i]))\n",
    "        print('Fidelity of label {} (train) : {:.3f}'.format(i, fidelity))"
   ]
  },
  {
   "cell_type": "code",
   "execution_count": 52,
   "metadata": {},
   "outputs": [
    {
     "name": "stdout",
     "output_type": "stream",
     "text": [
      "[0, 23, 30, 16]\n",
      "[0, 6, 0, 1]\n",
      "Fidelity of label 1 (test) : 0.207\n",
      "Fidelity of label 2 (test) : 0.000\n",
      "Fidelity of label 3 (test) : 0.059\n"
     ]
    }
   ],
   "source": [
    "label_found_test = [len(df_test[df_test['label'] == 0]),len(df_test[df_test['label'] == 1]),\n",
    "len(df_test[df_test['label'] == 2]), len(df_test[df_test['label'] == 3])] \n",
    "print(label_found_test)\n",
    "label_not_found_test = [len(df_test_not_found[df_test_not_found['label'] == 0]),\n",
    "len(df_test_not_found[df_test_not_found['label'] == 1]),\n",
    "len(df_test_not_found[df_test_not_found['label'] == 2]),\n",
    "len(df_test_not_found[df_test_not_found['label'] == 3])]\n",
    "print(label_not_found_test)\n",
    "## label wise fidelity\n",
    "for i in range(len(label_found_test)):\n",
    "    if(label_found_test[i]+label_not_found_test[i] == 0):\n",
    "        continue\n",
    "    fidelity = 1 - (label_found_test[i]/(label_found_test[i]+label_not_found_test[i]))\n",
    "    print('Fidelity of label {} (test) : {:.3f}'.format(i, fidelity))"
   ]
  },
  {
   "cell_type": "markdown",
   "metadata": {},
   "source": [
    "#### ACCURACY"
   ]
  },
  {
   "cell_type": "code",
   "execution_count": 53,
   "metadata": {},
   "outputs": [],
   "source": [
    "if(train):\n",
    "    accuracy = []\n",
    "    # Get original predictions \n",
    "    dict_ypred_orig = dict(zip(sorted(np.concatenate((idx_train.numpy(), idx_test.numpy()))), \n",
    "                                y_pred_orig.numpy()))\n",
    "\n",
    "    for i in range(len(df_train)): \n",
    "        node_idx = df_train[\"node_idx\"][i]\n",
    "        new_idx = df_train[\"new_idx\"][i]\n",
    "\n",
    "        _, _, _, node_dict = get_neighbourhood(int(node_idx), edge_index, 4, features, labels)\n",
    "\n",
    "        # Confirm idx mapping is correct\n",
    "        if node_dict[node_idx] == df_train[\"new_idx\"][i]:\n",
    "            cf = df_train[\"cf\"][i]\n",
    "            correct=0\n",
    "            nodes_in_motif = []\n",
    "            for perb in cf:\n",
    "                u = perb[0]\n",
    "                v = perb[1]\n",
    "                if(perb[2] == 'add'): #assuming all additions to be correct\n",
    "                    correct+=1\n",
    "                else: #deletion only between motif node as correct, u is the target node, v is the other node\n",
    "                    if(dict_ypred_orig[v] != 0 and dict_ypred_orig[u] != 0):\n",
    "                        correct+=1\n",
    "                        nodes_in_motif.append(v)\n",
    "            correct = correct/len(cf)\n",
    "            \n",
    "            accuracy.append([node_idx, new_idx, cf, nodes_in_motif, correct])\n",
    "            # print(correct)\n",
    "            # print(accuracy)\n",
    "    df_accuracy = pd.DataFrame(accuracy, columns=[\"node_idx\", \"new_idx\", \"cf\", \"nodes_in_motif\", \"prop_correct\"])\n",
    "    print(\"model: {}, Accuracy: {:.4f}\".format(save_prefix, np.mean(df_accuracy[\"prop_correct\"])))"
   ]
  },
  {
   "cell_type": "code",
   "execution_count": 54,
   "metadata": {},
   "outputs": [
    {
     "name": "stdout",
     "output_type": "stream",
     "text": [
      "model: ablation_feats_degree, Accuracy: 0.9889\n"
     ]
    }
   ],
   "source": [
    "accuracy = []\n",
    "# Get original predictions \n",
    "dict_ypred_orig = dict(zip(sorted(np.concatenate((idx_train.numpy(), idx_test.numpy()))), \n",
    "                            y_pred_orig.numpy()))\n",
    "for i in range(len(df_test)): \n",
    "    node_idx = df_test[\"node_idx\"][i]\n",
    "    new_idx = df_test[\"new_idx\"][i]\n",
    "\n",
    "    _, _, _, node_dict = get_neighbourhood(int(node_idx), edge_index, 4, features, labels)\n",
    "\n",
    "    # Confirm idx mapping is correct\n",
    "    if node_dict[node_idx] == df_test[\"new_idx\"][i]:\n",
    "        cf = df_test[\"cf\"][i]\n",
    "        correct=0\n",
    "        nodes_in_motif = []\n",
    "        for perb in cf:\n",
    "            u = perb[0]\n",
    "            v = perb[1]\n",
    "            if(perb[2] == 'add'): #assuming all additions to be correct\n",
    "                correct+=1\n",
    "            else: #deletion only between motif node as correct, u is the target node, v is the other node\n",
    "                if(dict_ypred_orig[v] != 0 and dict_ypred_orig[u] != 0):\n",
    "                    correct+=1\n",
    "                    nodes_in_motif.append(v)\n",
    "        correct = correct/len(cf)\n",
    "        \n",
    "        accuracy.append([node_idx, new_idx, cf, nodes_in_motif, correct])\n",
    "        # print(correct)\n",
    "        # print(accuracy)\n",
    "df_accuracy_test = pd.DataFrame(accuracy, columns=[\"node_idx\", \"new_idx\", \"cf\", \"nodes_in_motif\", \"prop_correct\"])\n",
    "print(\"model: {}, Accuracy: {:.4f}\".format(save_prefix, np.mean(df_accuracy_test[\"prop_correct\"])))"
   ]
  },
  {
   "cell_type": "markdown",
   "metadata": {},
   "source": [
    "#"
   ]
  }
 ],
 "metadata": {
  "kernelspec": {
   "display_name": "Python 3.9.12 ('GNNEx': conda)",
   "language": "python",
   "name": "python3"
  },
  "language_info": {
   "codemirror_mode": {
    "name": "ipython",
    "version": 3
   },
   "file_extension": ".py",
   "mimetype": "text/x-python",
   "name": "python",
   "nbconvert_exporter": "python",
   "pygments_lexer": "ipython3",
   "version": "3.9.12"
  },
  "orig_nbformat": 4,
  "vscode": {
   "interpreter": {
    "hash": "105d8bb4a76a1442d8cf35c928fae7818a4dd3cfc700eff9a221d54f70f6f9f3"
   }
  }
 },
 "nbformat": 4,
 "nbformat_minor": 2
}
