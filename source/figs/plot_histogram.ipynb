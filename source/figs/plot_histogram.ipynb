{
 "cells": [
  {
   "cell_type": "code",
   "execution_count": 65,
   "metadata": {},
   "outputs": [],
   "source": [
    "import sys\n",
    "sys.path.append('../src/')\n",
    "import torch\n",
    "import pandas as pd\n",
    "import numpy as np\n",
    "import pickle\n",
    "import argparse\n",
    "import networkx as nx\n",
    "from torch_geometric.utils import dense_to_sparse, degree\n",
    "import matplotlib.pyplot as plt\n",
    "from utils.classificationnet import GCNSynthetic\n",
    "from utils.utils import normalize_adj, get_neighbourhood\n",
    "import seaborn as sns\n",
    "sns.set_style(\"whitegrid\")\n",
    "sns.set(font_scale = 2.5)"
   ]
  },
  {
   "cell_type": "code",
   "execution_count": 66,
   "metadata": {},
   "outputs": [],
   "source": [
    "import warnings\n",
    "warnings.filterwarnings(\"ignore\")"
   ]
  },
  {
   "cell_type": "code",
   "execution_count": 67,
   "metadata": {},
   "outputs": [],
   "source": [
    "torch.set_printoptions(precision=8)\n",
    "header = [\"node_idx\", \"new_idx\", \"cf_adj\", \"sub_adj\", \"cf\", \"num_nodes\", \"node_dict\", \"y_pred\", \"y_pred_cf\",\n",
    "            \"label\",  \"loss_total\", \"loss_pred\", \"loss_graph_dist\", \"found\"]"
   ]
  },
  {
   "cell_type": "markdown",
   "metadata": {},
   "source": [
    "save_prefix:\n",
    "1. syn4:\n",
    "    * inductive: inductive_non0_correct_only\n",
    "    * transductive: transductive_non0_correct_only\n",
    "2. syn5:\n",
    "    * inductive: ablation_feats_entropy\n",
    "    * transductive: transductive_non0_correct_only\n",
    "3. syn1:\n",
    "    * inductive: ablation_feats_degree\n",
    "    * transductive: transductive_non0_correct_only"
   ]
  },
  {
   "cell_type": "code",
   "execution_count": 68,
   "metadata": {},
   "outputs": [],
   "source": [
    "dataset = \"syn5\"\n",
    "data_dict = {'syn4': 'Tree-Cycles', 'syn5':'Tree-Grid', 'syn1':'BA-Shapes'}"
   ]
  },
  {
   "cell_type": "code",
   "execution_count": 69,
   "metadata": {},
   "outputs": [],
   "source": [
    "save_prefix = 'transductive_non0_correct_only' "
   ]
  },
  {
   "cell_type": "code",
   "execution_count": 70,
   "metadata": {},
   "outputs": [
    {
     "name": "stdout",
     "output_type": "stream",
     "text": [
      "False\n"
     ]
    }
   ],
   "source": [
    "inductive = False  if \"transductive\" in save_prefix else True\n",
    "print(inductive)"
   ]
  },
  {
   "cell_type": "code",
   "execution_count": 71,
   "metadata": {},
   "outputs": [],
   "source": [
    "# Load cf examples for train set\n",
    "if(inductive):\n",
    "    with open(\"../results/{}/{}_train_{}.pkl\".format(dataset, dataset, save_prefix), \"rb\") as ftrain:\n",
    "        cf_examples_train = pickle.load(ftrain)\n",
    "    ftrain.close()\n",
    "\n",
    "\n",
    "    # Load cf examples for test set\n",
    "    with open(\"../results/{}/{}_test_{}.pkl\".format(dataset, dataset, save_prefix), \"rb\") as ftest:\n",
    "        cf_examples_test = pickle.load(ftest)\n",
    "    ftest.close()\n",
    "else:\n",
    "    # Load cf examples for train set\n",
    "    with open(\"../results/{}/{}_{}.pkl\".format(dataset, dataset, save_prefix), \"rb\") as ftrain:\n",
    "        cf_examples_train = pickle.load(ftrain)\n",
    "    ftrain.close()"
   ]
  },
  {
   "cell_type": "code",
   "execution_count": 72,
   "metadata": {},
   "outputs": [
    {
     "name": "stdout",
     "output_type": "stream",
     "text": [
      "129 0\n"
     ]
    }
   ],
   "source": [
    "df_train = pd.DataFrame(columns=header)\n",
    "df_train_not_found = pd.DataFrame(columns=header)\n",
    "\n",
    "for key in cf_examples_train.keys():\n",
    "    val={}\n",
    "    i=0\n",
    "    for head in header:\n",
    "        if(head == \"node_idx\"):\n",
    "            val[head] = key\n",
    "        else:\n",
    "            if(torch.is_tensor(cf_examples_train[key][i])):\n",
    "                val[head] = cf_examples_train[key][i].detach().cpu().numpy()\n",
    "            else:\n",
    "                val[head] = cf_examples_train[key][i]\n",
    "            i+=1\n",
    "    if(val['found'] == 'not found'):\n",
    "        df_train_not_found = df_train_not_found.append(val, ignore_index=True)\n",
    "    else:\n",
    "        df_train = df_train.append(val, ignore_index=True)\n",
    "\n",
    "print(len(df_train), len(df_train_not_found))"
   ]
  },
  {
   "cell_type": "code",
   "execution_count": 73,
   "metadata": {},
   "outputs": [],
   "source": [
    "if(inductive):\n",
    "    df_test = pd.DataFrame(columns=header)\n",
    "    df_test_not_found = pd.DataFrame(columns=header)\n",
    "    for key in cf_examples_test.keys():\n",
    "        val={}\n",
    "        i=0\n",
    "        for head in header:\n",
    "            if(head == \"node_idx\"):\n",
    "                val[head] = key\n",
    "            else:\n",
    "                if(torch.is_tensor(cf_examples_test[key][i])):\n",
    "                    val[head] = cf_examples_test[key][i].detach().cpu().numpy()\n",
    "                else:\n",
    "                    val[head] = cf_examples_test[key][i]\n",
    "                i+=1\n",
    "        if(val['found'] == 'not found'):\n",
    "            df_test_not_found = df_test_not_found.append(val, ignore_index=True)\n",
    "        else:\n",
    "            df_test = df_test.append(val, ignore_index=True)\n",
    "\n",
    "    print(len(df_test), len(df_test_not_found))\n"
   ]
  },
  {
   "cell_type": "markdown",
   "metadata": {},
   "source": [
    "COMPUTING SIZE LIST"
   ]
  },
  {
   "cell_type": "code",
   "execution_count": 74,
   "metadata": {},
   "outputs": [
    {
     "name": "stdout",
     "output_type": "stream",
     "text": [
      "------------------\n",
      "\n",
      "{1: {'num': 127, 'add': 99, 'del': 28}, 2: {'num': 2, 'add': 2, 'del': 2}}\n"
     ]
    }
   ],
   "source": [
    "cf_size_list_train = []\n",
    "cf_size_dict_train = {}\n",
    "for i in range(len(df_train)) :\n",
    "    cf = df_train.loc[i, \"cf\"]\n",
    "    cf_len = len(cf)\n",
    "    cf_size_list_train.append(cf_len)\n",
    "    add=0\n",
    "    deletion=0\n",
    "    for j in range(cf_len):\n",
    "        if(cf[j][2] == 'add'):\n",
    "            add+=1\n",
    "        else:\n",
    "            deletion+=1\n",
    "\n",
    "    if(cf_len not in cf_size_dict_train.keys()):\n",
    "        cf_size_dict_train[cf_len] = {'num':1, 'add':add, 'del':deletion}\n",
    "    else:\n",
    "        cf_size_dict_train[cf_len]['add'] += add\n",
    "        cf_size_dict_train[cf_len]['del'] += deletion\n",
    "        cf_size_dict_train[cf_len]['num'] += 1\n",
    "\n",
    "print('------------------\\n')  \n",
    "print(cf_size_dict_train)  "
   ]
  },
  {
   "cell_type": "code",
   "execution_count": 75,
   "metadata": {},
   "outputs": [],
   "source": [
    "if(inductive):\n",
    "    cf_size_list_test = []\n",
    "    cf_size_dict_test = {}\n",
    "    for i in range(len(df_test)) :\n",
    "        cf = df_test.loc[i, \"cf\"]\n",
    "        cf_len = len(cf)\n",
    "        cf_size_list_test.append(cf_len)\n",
    "        add=0\n",
    "        deletion=0\n",
    "        for j in range(cf_len):\n",
    "            if(cf[j][2] == 'add'):\n",
    "                add+=1\n",
    "            else:\n",
    "                deletion+=1\n",
    "\n",
    "        if(cf_len not in cf_size_dict_test.keys()):\n",
    "            cf_size_dict_test[cf_len] = {'num':1, 'add':add, 'del':deletion}\n",
    "        else:\n",
    "            cf_size_dict_test[cf_len]['add'] += add\n",
    "            cf_size_dict_test[cf_len]['del'] += deletion\n",
    "            cf_size_dict_test[cf_len]['num'] += 1\n",
    "\n",
    "    print('------------------\\n')  \n",
    "    print(cf_size_dict_test)  "
   ]
  },
  {
   "cell_type": "code",
   "execution_count": 76,
   "metadata": {},
   "outputs": [],
   "source": [
    "cf_size_dict_train = dict(sorted(cf_size_dict_train.items() ,  key=lambda x: x[0]))\n",
    "if(inductive):\n",
    "    cf_size_dict_test = dict(sorted(cf_size_dict_test.items() ,  key=lambda x: x[0]))"
   ]
  },
  {
   "cell_type": "markdown",
   "metadata": {},
   "source": [
    "PLOT HISTOGRAM"
   ]
  },
  {
   "cell_type": "code",
   "execution_count": 82,
   "metadata": {},
   "outputs": [
    {
     "data": {
      "image/png": "[encoded data removed]",
      "text/plain": [
       "<Figure size 720x576 with 1 Axes>"
      ]
     },
     "metadata": {},
     "output_type": "display_data"
    }
   ],
   "source": [
    "adds = []\n",
    "deletions = []\n",
    "freq = []\n",
    "freq_add = []\n",
    "freq_del = []\n",
    "size = []\n",
    "for key in cf_size_dict_train.keys():\n",
    "    adds.append(cf_size_dict_train[key]['add'])\n",
    "    deletions.append(cf_size_dict_train[key]['del'])\n",
    "    freq.append(cf_size_dict_train[key]['num'])\n",
    "    add_ratio = cf_size_dict_train[key]['add']/(cf_size_dict_train[key]['add'] + cf_size_dict_train[key]['del'])\n",
    "    del_ratio = cf_size_dict_train[key]['del']/(cf_size_dict_train[key]['add'] + cf_size_dict_train[key]['del'])\n",
    "    freq_add.append(cf_size_dict_train[key]['num']*add_ratio)\n",
    "    freq_del.append(cf_size_dict_train[key]['num']*del_ratio)\n",
    "    size.append(key)\n",
    "\n",
    "# print(freq)\n",
    "# print(freq_add)\n",
    "# print(freq_del)\n",
    "fig = plt.subplots(figsize =(10, 8))\n",
    "ax = sns.barplot(x=size, y=freq, color='#5d8aa8')\n",
    "ax = sns.barplot(x=size, y=freq_del, color='#ed872d')\n",
    "plt.legend(loc='upper right', labels=['Addition', 'Deletion'])\n",
    "leg = ax.get_legend()\n",
    "leg.legendHandles[0].set_color('#5d8aa8')\n",
    "leg.legendHandles[1].set_color('#ed872d')\n",
    "plt.xlabel('Counterfactual size')\n",
    "plt.ylabel('Number of examples')\n",
    "# plt.title('Number of examples vs counterfactual size: {}'.format(data_dict[dataset]))\n",
    "def change_width(ax, new_value) :\n",
    "    for patch in ax.patches :\n",
    "        current_width = patch.get_width()\n",
    "        diff = current_width - new_value\n",
    "\n",
    "        # we change the bar width\n",
    "        patch.set_width(new_value)\n",
    "\n",
    "        # we recenter the bar\n",
    "        patch.set_x(patch.get_x() + diff * .5)\n",
    "\n",
    "change_width(ax, .18)\n",
    "plt.savefig(f'./{dataset}/{save_prefix}_bar_plot_train.pdf', bbox_inches='tight')"
   ]
  },
  {
   "cell_type": "code",
   "execution_count": 81,
   "metadata": {},
   "outputs": [],
   "source": [
    "if(inductive):\n",
    "    adds = []\n",
    "    deletions = []\n",
    "    freq = []\n",
    "    freq_add = []\n",
    "    freq_del = []\n",
    "    size = []\n",
    "    for key in cf_size_dict_test.keys():\n",
    "        adds.append(cf_size_dict_test[key]['add'])\n",
    "        deletions.append(cf_size_dict_test[key]['del'])\n",
    "        freq.append(cf_size_dict_test[key]['num'])\n",
    "        add_ratio = cf_size_dict_test[key]['add']/(cf_size_dict_test[key]['add'] + cf_size_dict_test[key]['del'])\n",
    "        del_ratio = cf_size_dict_test[key]['del']/(cf_size_dict_test[key]['add'] + cf_size_dict_test[key]['del'])\n",
    "        freq_add.append(cf_size_dict_test[key]['num']*add_ratio)\n",
    "        freq_del.append(cf_size_dict_test[key]['num']*del_ratio)\n",
    "        size.append(key)\n",
    "        \n",
    "    fig = plt.subplots(figsize =(10, 8))\n",
    "    # creating subplots\n",
    "    # plotting columns\n",
    "    ax = sns.barplot(x=size, y=freq, color='#5d8aa8', dodge=False)\n",
    "    ax = sns.barplot(x=size, y=freq_del, color='#ed872d', dodge=False)\n",
    "    plt.legend(loc='upper right', labels=['Addition', 'Deletion'])\n",
    "    leg = ax.get_legend()\n",
    "    leg.legendHandles[0].set_color('#5d8aa8')\n",
    "    leg.legendHandles[1].set_color('#ed872d')\n",
    "    plt.xlabel('Counterfactual size')\n",
    "    plt.ylabel('Number of examples')\n",
    "    # plt.title('Number of examples vs counterfactual size: {}'.format(data_dict[dataset]))\n",
    "    def change_width(ax, new_value) :\n",
    "        for patch in ax.patches :\n",
    "            current_width = patch.get_width()\n",
    "            diff = current_width - new_value\n",
    "\n",
    "            # we change the bar width\n",
    "            patch.set_width(new_value)\n",
    "\n",
    "            # we recenter the bar\n",
    "            patch.set_x(patch.get_x() + diff * .5)\n",
    "\n",
    "    change_width(ax, .2)\n",
    "    plt.savefig(f'./{dataset}/{save_prefix}_bar_plot_test.pdf', bbox_inches='tight')"
   ]
  }
 ],
 "metadata": {
  "kernelspec": {
   "display_name": "Python 3.9.12 ('GNNEx': conda)",
   "language": "python",
   "name": "python3"
  },
  "language_info": {
   "codemirror_mode": {
    "name": "ipython",
    "version": 3
   },
   "file_extension": ".py",
   "mimetype": "text/x-python",
   "name": "python",
   "nbconvert_exporter": "python",
   "pygments_lexer": "ipython3",
   "version": "3.9.12"
  },
  "orig_nbformat": 4,
  "vscode": {
   "interpreter": {
    "hash": "105d8bb4a76a1442d8cf35c928fae7818a4dd3cfc700eff9a221d54f70f6f9f3"
   }
  }
 },
 "nbformat": 4,
 "nbformat_minor": 2
}
